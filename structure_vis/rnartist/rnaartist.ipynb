{
 "cells": [
  {
   "cell_type": "markdown",
   "id": "4d57c6a6-ed8c-4c16-9996-6e6a12949429",
   "metadata": {},
   "source": [
    "# RNArtist\n",
    "\n",
    "Interesting project, see these [github](https://github.com/fjossinet/RNArtist), [twitter](https://twitter.com/rnartist_app) accounts.\n",
    "\n",
    "Similar to fornac or varna, using it means instrumenting the core engine of something driving a more elaborate GUI project.\n",
    "\n",
    "To plot something, you create a script in the DSL the project invented for the purpose.\n",
    "\n",
    "The documentation of that DSL is mostly a single page of human-generated example files/scripts--some with syntax that seems to be out of sync with the current parser. Alpha.\n",
    "\n",
    "Below I use the published docker image the developer made, and construct a plot script (using matplotlib to generate color values)."
   ]
  },
  {
   "cell_type": "code",
   "execution_count": 1,
   "id": "7d1a21ee-94c0-44eb-bbef-517f98bf7181",
   "metadata": {
    "tags": []
   },
   "outputs": [
    {
     "name": "stdout",
     "output_type": "stream",
     "text": [
      "Matplotlib: 3.6.0\n",
      "IPython: 7.27.0\n"
     ]
    }
   ],
   "source": [
    "import matplotlib.pyplot as plt\n",
    "import matplotlib; print(f'Matplotlib: {matplotlib.__version__}')\n",
    "from IPython.core.display import SVG\n",
    "import IPython; print(f'IPython: {IPython.__version__}')"
   ]
  },
  {
   "cell_type": "markdown",
   "id": "7490ceb7-df61-41bb-b035-6e219b8d8f07",
   "metadata": {},
   "source": [
    "## Using docker"
   ]
  },
  {
   "cell_type": "code",
   "execution_count": 2,
   "id": "e9a89d4c-8ea0-4ffe-88c2-744df010c43d",
   "metadata": {
    "tags": []
   },
   "outputs": [
    {
     "name": "stdout",
     "output_type": "stream",
     "text": [
      "Docker version 23.0.4, build f480fb1e37\n",
      "Using default tag: latest\n",
      "latest: Pulling from fjossinet/rnartistcore\n",
      "Digest: sha256:53992f1898a37b9682d7011db060db96e81e6e725d6e295cdfad5ef9c6c975aa\n",
      "Status: Image is up to date for fjossinet/rnartistcore:latest\n",
      "docker.io/fjossinet/rnartistcore:latest\n",
      "fjossinet/rnartistcore                                                          latest                   d2aeca7b1ee0   18 months ago   2.12GB\n"
     ]
    }
   ],
   "source": [
    "!docker --version\n",
    "!docker pull fjossinet/rnartistcore\n",
    "!docker image ls | grep rna"
   ]
  },
  {
   "cell_type": "markdown",
   "id": "9de73243-1c7e-4ae3-b2a5-bbeab10e03aa",
   "metadata": {},
   "source": [
    "Sheesh. Out of curiosity, here's what's in that:"
   ]
  },
  {
   "cell_type": "code",
   "execution_count": 3,
   "id": "a61abeec-65ab-45a4-a380-a2043e8ea0c2",
   "metadata": {
    "tags": []
   },
   "outputs": [
    {
     "name": "stdout",
     "output_type": "stream",
     "text": [
      "--------------------------------------------------------------------------------\n",
      "Size: 644.2 MB\n",
      "RUN /bin/sh -c apt-get update && apt-get install -y git wget build-essential default-jdk maven # buildkit\n",
      "--------------------------------------------------------------------------------\n",
      "Size: 528.3 MB\n",
      "/bin/sh -c set -ex;  apt-get update;  apt-get install -y --no-install-recommends   autoconf   automake   bzip2   dpkg-dev   file   g++   gcc   imagemagick   libbz2-dev   libc6-dev   libcurl4-openssl-dev   libdb-dev   libevent-dev   libffi-dev   libgdbm-dev   libglib2.0-dev   libgmp-dev   libjpeg-dev   libkrb5-dev   liblzma-dev   libmagickcore-dev   libmagickwand-dev   libmaxminddb-dev   libncurses5-dev   libncursesw5-dev   libpng-dev   libpq-dev   libreadline-dev   libsqlite3-dev   libssl-dev   libtool   libwebp-dev   libxml2-dev   libxslt-dev   libyaml-dev   make   patch   unzip   xz-utils   zlib1g-dev     $(    if apt-cache show 'default-libmysqlclient-dev' 2>/dev/null | grep -q '^Version:'; then     echo 'default-libmysqlclient-dev';    else     echo 'libmysqlclient-dev';    fi   )  ;  rm -rf /var/lib/apt/lists/*\n",
      "--------------------------------------------------------------------------------\n",
      "Size: 398.8 MB\n",
      "/bin/sh -c set -ex;   savedAptMark=\"$(apt-mark showmanual)\";  apt-get update;  apt-get install -y --no-install-recommends   dpkg-dev   flex  ;  rm -r /var/lib/apt/lists/*;   _fetch() {   local fetch=\"$1\"; shift;   local file=\"$1\"; shift;   for mirror in $GCC_MIRRORS; do    if curl -fL \"$mirror/$fetch\" -o \"$file\"; then     return 0;    fi;   done;   echo >&2 \"error: failed to download '$fetch' from several mirrors\";   return 1;  };   _fetch \"gcc-$GCC_VERSION/gcc-$GCC_VERSION.tar.xz.sig\" 'gcc.tar.xz.sig';  _fetch \"gcc-$GCC_VERSION/gcc-$GCC_VERSION.tar.xz\" 'gcc.tar.xz';  gpg --batch --verify gcc.tar.xz.sig gcc.tar.xz;  mkdir -p /usr/src/gcc;  tar -xf gcc.tar.xz -C /usr/src/gcc --strip-components=1;  rm gcc.tar.xz*;   cd /usr/src/gcc;   ./contrib/download_prerequisites;  { rm *.tar.* || true; };   for f in config.guess config.sub; do   wget -O \"$f\" \"https://git.savannah.gnu.org/cgit/config.git/plain/$f?id=7d3d27baf8107b630586c962c057e22149653deb\";   find -mindepth 2 -name \"$f\" -exec cp -v \"$f\" '{}' ';';  done;   dir=\"$(mktemp -d)\";  cd \"$dir\";   extraConfigureArgs='';  dpkgArch=\"$(dpkg --print-architecture)\";  case \"$dpkgArch\" in   armel)    extraConfigureArgs=\"$extraConfigureArgs --with-arch=armv4t --with-float=soft\"    ;;   armhf)    extraConfigureArgs=\"$extraConfigureArgs --with-arch=armv7-a --with-float=hard --with-fpu=vfpv3-d16 --with-mode=thumb\"    ;;     i386)    osVersionID=\"$(set -e; . /etc/os-release; echo \"$VERSION_ID\")\";    case \"$osVersionID\" in     8) extraConfigureArgs=\"$extraConfigureArgs --with-arch-32=i586\" ;;     *) extraConfigureArgs=\"$extraConfigureArgs --with-arch-32=i686\" ;;    esac;    ;;  esac;   gnuArch=\"$(dpkg-architecture --query DEB_BUILD_GNU_TYPE)\";  /usr/src/gcc/configure   --build=\"$gnuArch\"   --disable-multilib   --enable-languages=c,c++,fortran,go   $extraConfigureArgs  ;  make -j \"$(nproc)\";  make install-strip;   cd ..;   rm -rf \"$dir\" /usr/src/gcc;   apt-mark auto '.*' > /dev/null;  [ -z \"$savedAptMark\" ] || apt-mark manual $savedAptMark;  apt-get purge -y --auto-remove -o APT::AutoRemove::RecommendsImportant=false\n",
      "--------------------------------------------------------------------------------\n",
      "Size: 201.9 MB\n",
      "RUN /bin/sh -c mvn clean package # buildkit\n",
      "--------------------------------------------------------------------------------\n",
      "Size: 151.9 MB\n",
      "/bin/sh -c apt-get update && apt-get install -y --no-install-recommends   git   mercurial   openssh-client   subversion     procps  && rm -rf /var/lib/apt/lists/*\n",
      "--------------------------------------------------------------------------------\n",
      "Size: 123.9 MB\n",
      "/bin/sh -c #(nop) ADD file:aea313ae50ce6474a3df142b34d4dcba4e7e0186ea6fe55389cb2ea903b9ebbb in / \n",
      "--------------------------------------------------------------------------------\n",
      "Size: 34.5 MB\n",
      "RUN /bin/sh -c git clone https://github.com/fjossinet/RNArtistCore.git # buildkit\n",
      "--------------------------------------------------------------------------------\n",
      "Size: 18.9 MB\n",
      "/bin/sh -c set -ex;  if ! command -v gpg > /dev/null; then   apt-get update;   apt-get install -y --no-install-recommends    gnupg    dirmngr   ;   rm -rf /var/lib/apt/lists/*;  fi\n",
      "--------------------------------------------------------------------------------\n",
      "Size: 10.7 MB\n",
      "/bin/sh -c set -eux;  apt-get update;  apt-get install -y --no-install-recommends   ca-certificates   curl   netbase   wget  ;  rm -rf /var/lib/apt/lists/*\n",
      "--------------------------------------------------------------------------------\n",
      "Size: 2.4 MB\n",
      "RUN /bin/sh -c tar -xzvf RNAVIEW.tar.gz # buildkit\n",
      "--------------------------------------------------------------------------------\n",
      "Size: 552.3 kB\n",
      "RUN /bin/sh -c wget -qO RNAVIEW.tar.gz \"http://ndbserver.rutgers.edu/ndbmodule/services/download/RNAVIEW.tar.gz\" # buildkit\n",
      "--------------------------------------------------------------------------------\n",
      "Size: 441.9 kB\n",
      "RUN /bin/sh -c make && make clean # buildkit\n",
      "--------------------------------------------------------------------------------\n",
      "Size: 49.8 kB\n",
      "/bin/sh -c set -ex;  { echo '/usr/local/lib64'; echo '/usr/local/lib'; } > /etc/ld.so.conf.d/000-local-lib.conf;  ldconfig -v\n",
      "--------------------------------------------------------------------------------\n",
      "Size: 33.7 kB\n",
      "/bin/sh -c set -ex;  for key in $GPG_KEYS; do   gpg --batch --keyserver keyserver.ubuntu.com --recv-keys \"$key\";  done\n",
      "--------------------------------------------------------------------------------\n",
      "Size: 12.4 kB\n",
      "/bin/sh -c set -ex;  dpkg-divert --divert /usr/bin/gcc.orig --rename /usr/bin/gcc;  dpkg-divert --divert /usr/bin/g++.orig --rename /usr/bin/g++;  dpkg-divert --divert /usr/bin/gfortran.orig --rename /usr/bin/gfortran;  update-alternatives --install /usr/bin/cc cc /usr/local/bin/gcc 999\n",
      "--------------------------------------------------------------------------------\n",
      "Size: 0 Bytes\n",
      "RUN /bin/sh -c ln -s $(ls /RNArtistCore/target/rnartistcore*with-dependencies.jar) /RNArtistCore/target/rnartistcore_with-dependencies.jar # buildkit\n",
      "--------------------------------------------------------------------------------\n",
      "Size: 0 Bytes\n",
      "WORKDIR /RNArtistCore\n",
      "--------------------------------------------------------------------------------\n",
      "Size: 0 Bytes\n",
      "WORKDIR /\n",
      "--------------------------------------------------------------------------------\n",
      "Size: 0 Bytes\n",
      "ENV PATH=/RNAVIEW/bin:/usr/local/sbin:/usr/local/bin:/usr/sbin:/usr/bin:/sbin:/bin\n",
      "--------------------------------------------------------------------------------\n",
      "Size: 0 Bytes\n",
      "ENV RNAVIEW=/RNAVIEW\n",
      "--------------------------------------------------------------------------------\n",
      "Size: 0 Bytes\n",
      "WORKDIR /RNAVIEW\n",
      "--------------------------------------------------------------------------------\n",
      "Size: 0 Bytes\n",
      "MAINTAINER Fabrice Jossinet (fjossinet@gmail.com)\n",
      "--------------------------------------------------------------------------------\n",
      "Size: 0 Bytes\n",
      "/bin/sh -c #(nop)  ENV GCC_VERSION=11.2.0\n",
      "--------------------------------------------------------------------------------\n",
      "Size: 0 Bytes\n",
      "/bin/sh -c #(nop)  ENV GCC_MIRRORS=https://ftpmirror.gnu.org/gcc   https://mirrors.kernel.org/gnu/gcc   https://bigsearcher.com/mirrors/gcc/releases   http://www.netgull.com/gcc/releases   https://ftpmirror.gnu.org/gcc   ftp://ftp.gnu.org/gnu/gcc\n",
      "--------------------------------------------------------------------------------\n",
      "Size: 0 Bytes\n",
      "/bin/sh -c #(nop)  ENV GPG_KEYS=B215C1633BCA0477615F1B35A5B3A004745C015A  B3C42148A44E6983B3E4CC0793FA9B1AB75C61B8  90AA470469D3965A87A5DCB494D03953902C9419  80F98B2E0DAB6C8281BDF541A7C8C3B2F71EDF1C  7F74F97C103468EE5D750B583AB00996FC26A641  33C235A34C46AA3FFB293709A328C3A2C3C45C06  D3A93CAD751C2AF4F8C7AD516C35B99309B5FA62\n",
      "--------------------------------------------------------------------------------\n",
      "Size: 0 Bytes\n",
      "/bin/sh -c set -ex;  if ! command -v gpg > /dev/null; then   apt-get update;   apt-get install -y --no-install-recommends    gnupg    dirmngr   ;   rm -rf /var/lib/apt/lists/*;  fi\n",
      "--------------------------------------------------------------------------------\n",
      "Size: 0 Bytes\n",
      "/bin/sh -c #(nop)  CMD [\"bash\"]\n",
      "--------------------------------------------------------------------------------\n"
     ]
    }
   ],
   "source": [
    "import json\n",
    "import humanize\n",
    "import pprint\n",
    "\n",
    "hist = !docker history --format json --no-trunc --human=false fjossinet/rnartistcore \n",
    "hist = sorted([json.loads(l) for l in hist],\n",
    "              key=lambda x: int(x['Size']), reverse=True)\n",
    "hist = [{'layer': c['CreatedBy'], #''.join(c['CreatedBy']),\n",
    "         'size': humanize.naturalsize(c['Size'])} for c in hist]\n",
    "\n",
    "print('-'*80)\n",
    "for layer in hist:\n",
    "    print(f'Size: {layer[\"size\"]}')\n",
    "    print(layer[\"layer\"])\n",
    "    print('-'*80)"
   ]
  },
  {
   "cell_type": "markdown",
   "id": "b5dab10a-79c5-4747-99b5-db5a6a7fc06c",
   "metadata": {},
   "source": [
    "# Rendering"
   ]
  },
  {
   "cell_type": "code",
   "execution_count": 4,
   "id": "8f546b6f-5035-460f-8da9-cf5df59eb8af",
   "metadata": {},
   "outputs": [],
   "source": [
    "# They made this bash script to instrument calling the docker image:\n",
    "#!wget https://raw.githubusercontent.com/fjossinet/RNArtistCore/557f40feb8abfaddb99d5bf715d178df77957ab6/scripts/plot_2ds.sh\n",
    "#!chmod +x ./plot_2ds.sh\n",
    "\n",
    "plot_rnartist = './plot_2ds.sh'"
   ]
  },
  {
   "cell_type": "code",
   "execution_count": 5,
   "id": "7db0e90c-8db3-4407-af3e-57ed98475013",
   "metadata": {
    "tags": []
   },
   "outputs": [
    {
     "data": {
      "image/svg+xml": [
       "<svg xmlns=\"http://www.w3.org/2000/svg\" width=\"1024.0\" height=\"1024.0\" viewBox=\"0 0 1024.0 1024.0\">\n",
       "<line x1=\"291.7209302325582\" y1=\"623.6279069767443\" x2=\"237.71090866140668\" y2=\"568.2518854781517\" stroke=\"#404040\" stroke-width=\"2.9767442\"/><line x1=\"223.16190914845907\" y1=\"532.4977091690525\" x2=\"223.16190914845902\" y2=\"475.981274813637\" stroke=\"#404040\" stroke-width=\"2.9767442\"/><line x1=\"237.71090866140668\" y1=\"440.2270985045377\" x2=\"291.7209302325582\" y2=\"384.8510770059454\" stroke=\"#404040\" stroke-width=\"2.9767442\"/><line x1=\"395.90697674418607\" y1=\"384.8510770059454\" x2=\"397.8977177808457\" y2=\"385.93924237009276\" stroke=\"#404040\" stroke-width=\"2.9767442\"/><line x1=\"432.41217224975475\" y1=\"409.00106354565605\" x2=\"434.1793295705371\" y2=\"410.42384558742344\" stroke=\"#404040\" stroke-width=\"2.9767442\"/><line x1=\"474.0496034541558\" y1=\"506.6792015327853\" x2=\"474.6837987398949\" y2=\"493.56831022913286\" stroke=\"#404040\" stroke-width=\"2.9767442\"/><line x1=\"471.440525051849\" y1=\"535.0980199425027\" x2=\"475.08592301130614\" y2=\"501.3307922939574\" stroke=\"#404040\" stroke-width=\"2.9767442\"/><line x1=\"469.3909507958998\" y1=\"542.5958247616301\" x2=\"475.0280238424456\" y2=\"509.10346747195297\" stroke=\"#404040\" stroke-width=\"2.9767442\"/><line x1=\"466.9013102978554\" y1=\"549.9592154158654\" x2=\"474.51030413249225\" y2=\"516.8590975584325\" stroke=\"#404040\" stroke-width=\"2.9767442\"/><line x1=\"463.98032813914074\" y1=\"557.1623879783446\" x2=\"473.5345781545387\" y2=\"524.5705040807426\" stroke=\"#404040\" stroke-width=\"2.9767442\"/><line x1=\"460.63824047501845\" y1=\"564.180099983101\" x2=\"465.0696413163563\" y2=\"551.8245198259397\" stroke=\"#404040\" stroke-width=\"2.9767442\"/><line x1=\"410.6500525120396\" y1=\"617.5211250426053\" x2=\"376.6559055551137\" y2=\"631.6019617534678\" stroke=\"#404040\" stroke-width=\"2.9767442\"/><g><circle cx=\"223.0\" cy=\"553.5\" r=\"21\" stroke=\"#a4938a\" stroke-width=\"2.9767442\" fill=\"#ebd3c6\"/><text x=\"212.16190954767157\" y=\"563.3349188705906\" style=\"fill:#000000;font-family:Arial;font-size:30;\">U</text></g><g><circle cx=\"223.0\" cy=\"455.0\" r=\"21\" stroke=\"#a3948c\" stroke-width=\"2.9767442\" fill=\"#e9d4c9\"/><text x=\"212.6619095476715\" y=\"465.14406591052386\" style=\"fill:#000000;font-family:Arial;font-size:30;\">A</text></g><g><circle cx=\"416.5\" cy=\"396.0\" r=\"21\" stroke=\"#a3938b\" stroke-width=\"2.9767442\" fill=\"#ead3c7\"/><text x=\"404.68169883459285\" y=\"405.93350827175846\" style=\"fill:#000000;font-family:Arial;font-size:30;\">G</text></g><g><circle cx=\"473.5\" cy=\"514.5\" r=\"21\" stroke=\"#a3938b\" stroke-width=\"2.9767442\" fill=\"#ead3c7\"/><text x=\"463.17704631708756\" y=\"524.3811850157115\" style=\"fill:#000000;font-family:Arial;font-size:30;\">A</text></g><g><circle cx=\"473.0\" cy=\"522.0\" r=\"21\" stroke=\"#a3948c\" stroke-width=\"2.9767442\" fill=\"#e9d4c9\"/><text x=\"461.3494025444926\" y=\"532.0476280191735\" style=\"fill:#000000;font-family:Arial;font-size:30;\">G</text></g><g><circle cx=\"471.5\" cy=\"529.5\" r=\"21\" stroke=\"#a3938b\" stroke-width=\"2.9767442\" fill=\"#ead3c7\"/><text x=\"460.0695728922778\" y=\"539.6516650128344\" style=\"fill:#000000;font-family:Arial;font-size:30;\">G</text></g><g><circle cx=\"470.0\" cy=\"537.5\" r=\"21\" stroke=\"#a59086\" stroke-width=\"2.9767442\" fill=\"#edcfc0\"/><text x=\"458.8420423364949\" y=\"547.1666487598884\" style=\"fill:#000000;font-family:Arial;font-size:30;\">U</text></g><g><circle cx=\"467.5\" cy=\"544.5\" r=\"21\" stroke=\"#a3938b\" stroke-width=\"2.9767442\" fill=\"#ead3c7\"/><text x=\"457.17286475560957\" y=\"554.5662440976237\" style=\"fill:#000000;font-family:Arial;font-size:30;\">C</text></g><line x1=\"291.7209302325582\" y1=\"215.17665840129416\" x2=\"275.45363227961934\" y2=\"193.81664316796468\" stroke=\"#404040\" stroke-width=\"2.9767442\"/><line x1=\"260.84286632581023\" y1=\"156.49709294761567\" x2=\"260.26988283924504\" y2=\"150.51254972135564\" stroke=\"#404040\" stroke-width=\"2.9767442\"/><line x1=\"267.5338868037652\" y1=\"111.09862379650565\" x2=\"270.20266637212717\" y2=\"105.71153893376743\" stroke=\"#404040\" stroke-width=\"2.9767442\"/><line x1=\"297.15760370409805\" y1=\"76.0525661964042\" x2=\"302.2658094349389\" y2=\"72.88250280362217\" stroke=\"#404040\" stroke-width=\"2.9767442\"/><line x1=\"340.80799824490754\" y1=\"61.895101284479324\" x2=\"346.8199087318368\" y2=\"61.895101284479324\" stroke=\"#404040\" stroke-width=\"2.9767442\"/><line x1=\"385.36209754180544\" y1=\"72.88250280362217\" x2=\"390.4703032726462\" y2=\"76.0525661964042\" stroke=\"#404040\" stroke-width=\"2.9767442\"/><line x1=\"417.4252406046171\" y1=\"105.71153893376743\" x2=\"420.09402017297907\" y2=\"111.09862379650565\" stroke=\"#404040\" stroke-width=\"2.9767442\"/><line x1=\"427.3580241374992\" y1=\"150.51254972135564\" x2=\"426.785040650934\" y2=\"156.49709294761567\" stroke=\"#404040\" stroke-width=\"2.9767442\"/><line x1=\"412.1742746971249\" y1=\"193.81664316796468\" x2=\"395.90697674418607\" y2=\"215.17665840129416\" stroke=\"#404040\" stroke-width=\"2.9767442\"/><g><circle cx=\"262.5\" cy=\"177.5\" r=\"21\" stroke=\"#a59389\" stroke-width=\"2.9767442\" fill=\"#ecd2c4\"/><text x=\"252.3288205848304\" y=\"187.23944805345775\" style=\"fill:#000000;font-family:Arial;font-size:30;\">A</text></g><g><circle cx=\"258.5\" cy=\"129.5\" r=\"21\" stroke=\"#a4938a\" stroke-width=\"2.9767442\" fill=\"#ebd3c6\"/><text x=\"246.78392937864993\" y=\"139.7701954139386\" style=\"fill:#000000;font-family:Arial;font-size:30;\">G</text></g><g><circle cx=\"279.5\" cy=\"87.0\" r=\"21\" stroke=\"#a98b7c\" stroke-width=\"2.9767442\" fill=\"#f2c7b2\"/><text x=\"268.4526245956675\" y=\"97.03996811475952\" style=\"fill:#000000;font-family:Arial;font-size:30;\">U</text></g><g><circle cx=\"320.0\" cy=\"62.0\" r=\"21\" stroke=\"#ab8674\" stroke-width=\"2.9767442\" fill=\"#f5c0a7\"/><text x=\"308.9707893417945\" y=\"71.89510168369179\" style=\"fill:#000000;font-family:Arial;font-size:30;\">U</text></g><g><circle cx=\"367.5\" cy=\"62.0\" r=\"21\" stroke=\"#a78f82\" stroke-width=\"2.9767442\" fill=\"#efcdbb\"/><text x=\"356.1571184333749\" y=\"71.89510168369179\" style=\"fill:#000000;font-family:Arial;font-size:30;\">G</text></g><g><circle cx=\"408.5\" cy=\"87.0\" r=\"21\" stroke=\"#9f4d3c\" stroke-width=\"2.9767442\" fill=\"#e46e56\"/><text x=\"396.6752831795018\" y=\"97.03996811475952\" style=\"fill:#000000;font-family:Arial;font-size:30;\">G</text></g><g><circle cx=\"429.5\" cy=\"129.5\" r=\"21\" stroke=\"#a8644f\" stroke-width=\"2.9767442\" fill=\"#f19072\"/><text x=\"417.8439783965194\" y=\"139.7701954139386\" style=\"fill:#000000;font-family:Arial;font-size:30;\">G</text></g><g><circle cx=\"424.5\" cy=\"177.5\" r=\"21\" stroke=\"#a59187\" stroke-width=\"2.9767442\" fill=\"#edd0c1\"/><text x=\"414.29908719033887\" y=\"187.23944805345775\" style=\"fill:#000000;font-family:Arial;font-size:30;\">A</text></g><line x1=\"643.1909596233231\" y1=\"323.84839372585145\" x2=\"659.6155702621659\" y2=\"300.33125099975507\" stroke=\"#404040\" stroke-width=\"2.9767442\"/><line x1=\"691.1316683875348\" y1=\"276.13336715852074\" x2=\"698.507750728923\" y2=\"273.4538608685863\" stroke=\"#404040\" stroke-width=\"2.9767442\"/><line x1=\"738.2066827376561\" y1=\"271.78149105071054\" x2=\"745.7819874153474\" y2=\"273.83115046263356\" stroke=\"#404040\" stroke-width=\"2.9767442\"/><line x1=\"779.2215489765306\" y1=\"295.29269155449344\" x2=\"784.2402311229583\" y2=\"301.32586436636154\" stroke=\"#404040\" stroke-width=\"2.9767442\"/><line x1=\"799.2553347552321\" y1=\"338.11375213331337\" x2=\"799.8916315762062\" y2=\"345.9356106733504\" stroke=\"#404040\" stroke-width=\"2.9767442\"/><line x1=\"791.0198836146869\" y1=\"384.6666590912416\" x2=\"787.0423146083747\" y2=\"391.4316638558196\" stroke=\"#404040\" stroke-width=\"2.9767442\"/><line x1=\"757.5111972635269\" y1=\"418.01577813120184\" x2=\"750.3667752693875\" y2=\"421.26286590864106\" stroke=\"#404040\" stroke-width=\"2.9767442\"/><line x1=\"710.9736238839319\" y1=\"425.7518583966182\" x2=\"683.0612335069418\" y2=\"420.10374967121334\" stroke=\"#404040\" stroke-width=\"2.9767442\"/><g><circle cx=\"671.5\" cy=\"283.5\" r=\"21\" stroke=\"#a98c7e\" stroke-width=\"2.9767442\" fill=\"#f2c9b5\"/><text x=\"661.0466904173215\" y=\"293.2479943067657\" style=\"fill:#000000;font-family:Arial;font-size:30;\">C</text></g><g><circle cx=\"718.0\" cy=\"266.5\" r=\"21\" stroke=\"#a35441\" stroke-width=\"2.9767442\" fill=\"#e9795e\"/><text x=\"707.0927294975613\" y=\"276.3392345187665\" style=\"fill:#000000;font-family:Arial;font-size:30;\">U</text></g><g><circle cx=\"766.0\" cy=\"279.5\" r=\"21\" stroke=\"#7d021a\" stroke-width=\"2.9767442\" fill=\"#b30326\"/><text x=\"754.3959414538672\" y=\"289.27340779300255\" style=\"fill:#000000;font-family:Arial;font-size:30;\">G</text></g><g><circle cx=\"797.5\" cy=\"317.5\" r=\"21\" stroke=\"#8c2926\" stroke-width=\"2.9767442\" fill=\"#c93b37\"/><text x=\"787.0658394440468\" y=\"327.3451489262775\" style=\"fill:#000000;font-family:Arial;font-size:30;\">A</text></g><g><circle cx=\"801.5\" cy=\"366.5\" r=\"21\" stroke=\"#9e4a3a\" stroke-width=\"2.9767442\" fill=\"#e26a53\"/><text x=\"791.0811276858166\" y=\"376.70421467881124\" style=\"fill:#000000;font-family:Arial;font-size:30;\">A</text></g><g><circle cx=\"776.5\" cy=\"409.5\" r=\"21\" stroke=\"#ac7662\" stroke-width=\"2.9767442\" fill=\"#f6aa8c\"/><text x=\"764.9810713356701\" y=\"419.3941090666749\" style=\"fill:#000000;font-family:Arial;font-size:30;\">G</text></g><g><circle cx=\"731.5\" cy=\"430.0\" r=\"21\" stroke=\"#9c4738\" stroke-width=\"2.9767442\" fill=\"#e06650\"/><text x=\"720.8969019956694\" y=\"439.88453577159305\" style=\"fill:#000000;font-family:Arial;font-size:30;\">A</text></g><line x1=\"625.0402173020013\" y1=\"711.7950958115846\" x2=\"652.8780370168813\" y2=\"717.7802937694562\" stroke=\"#404040\" stroke-width=\"2.9767442\"/><line x1=\"687.3970773967633\" y1=\"737.4586654909244\" x2=\"692.5820319407865\" y2=\"743.0654752502869\" stroke=\"#404040\" stroke-width=\"2.9767442\"/><line x1=\"709.5057417731059\" y1=\"779.015308460855\" x2=\"710.5232623664446\" y2=\"786.5839755260257\" stroke=\"#404040\" stroke-width=\"2.9767442\"/><line x1=\"703.6949270016264\" y1=\"825.7269991509552\" x2=\"700.1748475279073\" y2=\"832.5041010241728\" stroke=\"#404040\" stroke-width=\"2.9767442\"/><line x1=\"672.0785625212004\" y1=\"860.6003860308797\" x2=\"665.3014606479827\" y2=\"864.1204655045988\" stroke=\"#404040\" stroke-width=\"2.9767442\"/><line x1=\"626.1584370230534\" y1=\"870.948800869417\" x2=\"618.5897699578825\" y2=\"869.9312802760784\" stroke=\"#404040\" stroke-width=\"2.9767442\"/><line x1=\"582.6399367473144\" y1=\"853.0075704437589\" x2=\"577.033126987952\" y2=\"847.8226158997358\" stroke=\"#404040\" stroke-width=\"2.9767442\"/><line x1=\"557.3547552664837\" y1=\"813.3035755198538\" x2=\"551.3695573086122\" y2=\"785.4657558049738\" stroke=\"#404040\" stroke-width=\"2.9767442\"/><g><circle cx=\"673.5\" cy=\"722.0\" r=\"21\" stroke=\"#a3938b\" stroke-width=\"2.9767442\" fill=\"#ead3c7\"/><text x=\"662.2497149684741\" y=\"732.1602536674275\" style=\"fill:#000000;font-family:Arial;font-size:30;\">U</text></g><g><circle cx=\"706.5\" cy=\"758.5\" r=\"21\" stroke=\"#a59187\" stroke-width=\"2.9767442\" fill=\"#edd0c1\"/><text x=\"695.7293951675006\" y=\"768.3638878722089\" style=\"fill:#000000;font-family:Arial;font-size:30;\">U</text></g><g><circle cx=\"713.5\" cy=\"807.5\" r=\"21\" stroke=\"#a3938b\" stroke-width=\"2.9767442\" fill=\"#ead3c7\"/><text x=\"702.799609770475\" y=\"817.2353969130968\" style=\"fill:#000000;font-family:Arial;font-size:30;\">C</text></g><g><circle cx=\"690.5\" cy=\"851.0\" r=\"21\" stroke=\"#a3938b\" stroke-width=\"2.9767442\" fill=\"#ead3c7\"/><text x=\"679.0701655574837\" y=\"860.9957040604562\" style=\"fill:#000000;font-family:Arial;font-size:30;\">G</text></g><g><circle cx=\"646.5\" cy=\"873.5\" r=\"21\" stroke=\"#a3938b\" stroke-width=\"2.9767442\" fill=\"#ead3c7\"/><text x=\"636.3098584101243\" y=\"883.7251482734473\" style=\"fill:#000000;font-family:Arial;font-size:30;\">A</text></g><g><circle cx=\"598.0\" cy=\"867.0\" r=\"21\" stroke=\"#a4938a\" stroke-width=\"2.9767442\" fill=\"#ebd3c6\"/><text x=\"586.9383493692364\" y=\"877.1549336704732\" style=\"fill:#000000;font-family:Arial;font-size:30;\">U</text></g><g><circle cx=\"561.5\" cy=\"833.5\" r=\"21\" stroke=\"#a59389\" stroke-width=\"2.9767442\" fill=\"#ecd2c4\"/><text x=\"551.234715164455\" y=\"843.6752534714466\" style=\"fill:#000000;font-family:Arial;font-size:30;\">C</text></g><line x1=\"291.7209302325582\" y1=\"942.1395348837209\" x2=\"291.7209302325582\" y2=\"927.2558139534884\" stroke=\"#404040\" stroke-width=\"2.9767442\"/><line x1=\"291.7209302325582\" y1=\"885.5813953488372\" x2=\"291.7209302325582\" y2=\"870.6976744186047\" stroke=\"#404040\" stroke-width=\"2.9767442\"/><line x1=\"291.7209302325582\" y1=\"829.0232558139535\" x2=\"291.7209302325582\" y2=\"814.1395348837209\" stroke=\"#404040\" stroke-width=\"2.9767442\"/><line x1=\"291.7209302325582\" y1=\"772.4651162790698\" x2=\"291.7209302325582\" y2=\"757.5813953488372\" stroke=\"#404040\" stroke-width=\"2.9767442\"/><line x1=\"291.72093023255815\" y1=\"715.9069767441861\" x2=\"291.7209302325582\" y2=\"701.0232558139535\" stroke=\"#404040\" stroke-width=\"2.9767442\"/><line x1=\"291.7209302325582\" y1=\"659.3488372093024\" x2=\"291.7209302325582\" y2=\"644.4651162790698\" stroke=\"#404040\" stroke-width=\"2.9767442\"/><line x1=\"395.90697674418607\" y1=\"644.4651162790698\" x2=\"395.90697674418607\" y2=\"659.3488372093024\" stroke=\"#404040\" stroke-width=\"2.9767442\"/><line x1=\"395.90697674418607\" y1=\"701.0232558139535\" x2=\"395.9069767441861\" y2=\"715.9069767441861\" stroke=\"#404040\" stroke-width=\"2.9767442\"/><line x1=\"395.90697674418607\" y1=\"757.5813953488372\" x2=\"395.90697674418607\" y2=\"772.4651162790698\" stroke=\"#404040\" stroke-width=\"2.9767442\"/><line x1=\"395.90697674418607\" y1=\"814.1395348837209\" x2=\"395.90697674418607\" y2=\"829.0232558139535\" stroke=\"#404040\" stroke-width=\"2.9767442\"/><line x1=\"395.90697674418607\" y1=\"870.6976744186047\" x2=\"395.90697674418607\" y2=\"885.5813953488372\" stroke=\"#404040\" stroke-width=\"2.9767442\"/><line x1=\"395.90697674418607\" y1=\"927.2558139534884\" x2=\"395.90697674418607\" y2=\"942.1395348837209\" stroke=\"#404040\" stroke-width=\"2.9767442\"/><line x1=\"318.5116279069768\" y1=\"954.5426356589147\" x2=\"369.1162790697675\" y2=\"954.5426356589147\" stroke=\"#404040\" stroke-width=\"2.9767442\"/><line x1=\"318.5116279069768\" y1=\"971.4108527131783\" x2=\"369.1162790697675\" y2=\"971.4108527131783\" stroke=\"#404040\" stroke-width=\"2.9767442\"/><g><circle cx=\"291.5\" cy=\"963.0\" r=\"21\" stroke=\"#a59288\" stroke-width=\"2.9767442\" fill=\"#ecd1c3\"/><text x=\"280.22093063177067\" y=\"972.976744585259\" style=\"fill:#000000;font-family:Arial;font-size:30;\">G</text></g><g><circle cx=\"396.0\" cy=\"963.0\" r=\"21\" stroke=\"#a69085\" stroke-width=\"2.9767442\" fill=\"#eecfbe\"/><text x=\"385.4069771433986\" y=\"972.976744585259\" style=\"fill:#000000;font-family:Arial;font-size:30;\">C</text></g><line x1=\"318.5116279069768\" y1=\"914.8527131782946\" x2=\"369.1162790697675\" y2=\"914.8527131782946\" stroke=\"#404040\" stroke-width=\"2.9767442\"/><line x1=\"318.5116279069768\" y1=\"897.984496124031\" x2=\"369.1162790697675\" y2=\"897.984496124031\" stroke=\"#404040\" stroke-width=\"2.9767442\"/><g><circle cx=\"291.5\" cy=\"906.5\" r=\"21\" stroke=\"#a3948c\" stroke-width=\"2.9767442\" fill=\"#e9d4c9\"/><text x=\"281.22093063177067\" y=\"916.4186050503753\" style=\"fill:#000000;font-family:Arial;font-size:30;\">C</text></g><g><circle cx=\"396.0\" cy=\"906.5\" r=\"21\" stroke=\"#a3948c\" stroke-width=\"2.9767442\" fill=\"#e9d4c9\"/><text x=\"384.4069771433986\" y=\"916.4186050503753\" style=\"fill:#000000;font-family:Arial;font-size:30;\">G</text></g><line x1=\"318.5116279069768\" y1=\"858.2945736434109\" x2=\"369.1162790697675\" y2=\"858.2945736434109\" stroke=\"#404040\" stroke-width=\"2.9767442\"/><line x1=\"318.5116279069768\" y1=\"841.4263565891473\" x2=\"369.1162790697675\" y2=\"841.4263565891473\" stroke=\"#404040\" stroke-width=\"2.9767442\"/><g><circle cx=\"291.5\" cy=\"850.0\" r=\"21\" stroke=\"#a3948c\" stroke-width=\"2.9767442\" fill=\"#e9d4c9\"/><text x=\"280.22093063177067\" y=\"859.8604655154916\" style=\"fill:#000000;font-family:Arial;font-size:30;\">G</text></g><g><circle cx=\"396.0\" cy=\"850.0\" r=\"21\" stroke=\"#a3948c\" stroke-width=\"2.9767442\" fill=\"#e9d4c9\"/><text x=\"385.4069771433986\" y=\"859.8604655154916\" style=\"fill:#000000;font-family:Arial;font-size:30;\">C</text></g><line x1=\"318.5116279069768\" y1=\"793.3023255813954\" x2=\"326.94573643410854\" y2=\"793.3023255813954\" stroke=\"#404040\" stroke-width=\"2.9767442\"/><circle cx=\"343.81395348837214\" cy=\"793.3023255813953\" r=\"16.868217054263596\" stroke=\"#404040\" stroke-width=\"2.9767442\" fill=\"#404040\"/><line x1=\"360.68217054263573\" y1=\"793.3023255813954\" x2=\"369.1162790697675\" y2=\"793.3023255813954\" stroke=\"#404040\" stroke-width=\"2.9767442\"/><g><circle cx=\"291.5\" cy=\"793.5\" r=\"21\" stroke=\"#a3948c\" stroke-width=\"2.9767442\" fill=\"#e9d4c9\"/><text x=\"280.22093063177067\" y=\"803.3023259806079\" style=\"fill:#000000;font-family:Arial;font-size:30;\">G</text></g><g><circle cx=\"396.0\" cy=\"793.5\" r=\"21\" stroke=\"#a3948c\" stroke-width=\"2.9767442\" fill=\"#e9d4c9\"/><text x=\"384.9069771433986\" y=\"803.3023259806079\" style=\"fill:#000000;font-family:Arial;font-size:30;\">U</text></g><line x1=\"318.5116279069768\" y1=\"736.7441860465117\" x2=\"369.1162790697675\" y2=\"736.7441860465117\" stroke=\"#404040\" stroke-width=\"2.9767442\"/><g><circle cx=\"291.5\" cy=\"736.5\" r=\"21\" stroke=\"#a3948c\" stroke-width=\"2.9767442\" fill=\"#e9d4c9\"/><text x=\"281.22093063177067\" y=\"746.7441864457242\" style=\"fill:#000000;font-family:Arial;font-size:30;\">A</text></g><g><circle cx=\"396.0\" cy=\"736.5\" r=\"21\" stroke=\"#a3948c\" stroke-width=\"2.9767442\" fill=\"#e9d4c9\"/><text x=\"384.9069771433986\" y=\"746.7441864457242\" style=\"fill:#000000;font-family:Arial;font-size:30;\">U</text></g><line x1=\"318.51162790697674\" y1=\"680.1860465116279\" x2=\"369.11627906976753\" y2=\"680.1860465116279\" stroke=\"#404040\" stroke-width=\"2.9767442\"/><g><circle cx=\"291.5\" cy=\"680.5\" r=\"21\" stroke=\"#a3948c\" stroke-width=\"2.9767442\" fill=\"#e9d4c9\"/><text x=\"280.72093063177067\" y=\"690.1860469108404\" style=\"fill:#000000;font-family:Arial;font-size:30;\">U</text></g><g><circle cx=\"396.0\" cy=\"680.5\" r=\"21\" stroke=\"#a3938b\" stroke-width=\"2.9767442\" fill=\"#ead3c7\"/><text x=\"385.4069771433986\" y=\"690.1860469108404\" style=\"fill:#000000;font-family:Arial;font-size:30;\">A</text></g><line x1=\"318.5116279069768\" y1=\"623.6279069767443\" x2=\"369.1162790697675\" y2=\"623.6279069767443\" stroke=\"#404040\" stroke-width=\"2.9767442\"/><g><circle cx=\"291.5\" cy=\"623.5\" r=\"21\" stroke=\"#a3948c\" stroke-width=\"2.9767442\" fill=\"#e9d4c9\"/><text x=\"280.72093063177067\" y=\"633.6279073759567\" style=\"fill:#000000;font-family:Arial;font-size:30;\">U</text></g><g><circle cx=\"396.0\" cy=\"623.5\" r=\"21\" stroke=\"#a3938b\" stroke-width=\"2.9767442\" fill=\"#ead3c7\"/><text x=\"385.4069771433986\" y=\"633.6279073759567\" style=\"fill:#000000;font-family:Arial;font-size:30;\">A</text></g><line x1=\"291.7209302325582\" y1=\"364.0138677036198\" x2=\"291.7209302325582\" y2=\"349.1301467733872\" stroke=\"#404040\" stroke-width=\"2.9767442\"/><line x1=\"291.7209302325582\" y1=\"307.4557281687361\" x2=\"291.7209302325582\" y2=\"292.5720072385035\" stroke=\"#404040\" stroke-width=\"2.9767442\"/><line x1=\"291.7209302325582\" y1=\"250.89758863385237\" x2=\"291.7209302325582\" y2=\"236.01386770361978\" stroke=\"#404040\" stroke-width=\"2.9767442\"/><line x1=\"395.90697674418607\" y1=\"236.01386770361978\" x2=\"395.90697674418607\" y2=\"250.89758863385237\" stroke=\"#404040\" stroke-width=\"2.9767442\"/><line x1=\"395.90697674418607\" y1=\"292.5720072385035\" x2=\"395.90697674418607\" y2=\"307.4557281687361\" stroke=\"#404040\" stroke-width=\"2.9767442\"/><line x1=\"395.90697674418607\" y1=\"349.1301467733872\" x2=\"395.90697674418607\" y2=\"364.0138677036198\" stroke=\"#404040\" stroke-width=\"2.9767442\"/><line x1=\"318.5116279069768\" y1=\"393.2851855330772\" x2=\"369.1162790697675\" y2=\"393.2851855330772\" stroke=\"#404040\" stroke-width=\"2.9767442\"/><line x1=\"318.5116279069768\" y1=\"376.4169684788135\" x2=\"369.1162790697675\" y2=\"376.4169684788135\" stroke=\"#404040\" stroke-width=\"2.9767442\"/><g><circle cx=\"291.5\" cy=\"385.0\" r=\"21\" stroke=\"#a4938a\" stroke-width=\"2.9767442\" fill=\"#ebd3c6\"/><text x=\"280.22093063177067\" y=\"394.85107740515787\" style=\"fill:#000000;font-family:Arial;font-size:30;\">G</text></g><g><circle cx=\"396.0\" cy=\"385.0\" r=\"21\" stroke=\"#283586\" stroke-width=\"2.9767442\" fill=\"#3a4cc0\"/><text x=\"385.4069771433986\" y=\"394.85107740515787\" style=\"fill:#000000;font-family:Arial;font-size:30;\">C</text></g><line x1=\"318.5116279069768\" y1=\"336.7270459981935\" x2=\"369.1162790697675\" y2=\"336.7270459981935\" stroke=\"#404040\" stroke-width=\"2.9767442\"/><line x1=\"318.5116279069768\" y1=\"319.8588289439298\" x2=\"369.1162790697675\" y2=\"319.8588289439298\" stroke=\"#404040\" stroke-width=\"2.9767442\"/><g><circle cx=\"291.5\" cy=\"328.5\" r=\"21\" stroke=\"#a3948c\" stroke-width=\"2.9767442\" fill=\"#e9d4c9\"/><text x=\"281.22093063177067\" y=\"338.29293787027416\" style=\"fill:#000000;font-family:Arial;font-size:30;\">C</text></g><g><circle cx=\"396.0\" cy=\"328.5\" r=\"21\" stroke=\"#a3948c\" stroke-width=\"2.9767442\" fill=\"#e9d4c9\"/><text x=\"384.4069771433986\" y=\"338.29293787027416\" style=\"fill:#000000;font-family:Arial;font-size:30;\">G</text></g><line x1=\"318.5116279069768\" y1=\"271.73479793617787\" x2=\"369.1162790697675\" y2=\"271.73479793617787\" stroke=\"#404040\" stroke-width=\"2.9767442\"/><g><circle cx=\"291.5\" cy=\"271.5\" r=\"21\" stroke=\"#a3948c\" stroke-width=\"2.9767442\" fill=\"#e9d4c9\"/><text x=\"280.72093063177067\" y=\"281.73479833539045\" style=\"fill:#000000;font-family:Arial;font-size:30;\">U</text></g><g><circle cx=\"396.0\" cy=\"271.5\" r=\"21\" stroke=\"#a3948c\" stroke-width=\"2.9767442\" fill=\"#e9d4c9\"/><text x=\"385.4069771433986\" y=\"281.73479833539045\" style=\"fill:#000000;font-family:Arial;font-size:30;\">A</text></g><line x1=\"318.5116279069768\" y1=\"223.61076692842596\" x2=\"369.1162790697675\" y2=\"223.61076692842596\" stroke=\"#404040\" stroke-width=\"2.9767442\"/><line x1=\"318.5116279069768\" y1=\"206.74254987416236\" x2=\"369.1162790697675\" y2=\"206.74254987416236\" stroke=\"#404040\" stroke-width=\"2.9767442\"/><g><circle cx=\"291.5\" cy=\"215.5\" r=\"21\" stroke=\"#a3938b\" stroke-width=\"2.9767442\" fill=\"#ead3c7\"/><text x=\"281.22093063177067\" y=\"225.17665880050674\" style=\"fill:#000000;font-family:Arial;font-size:30;\">C</text></g><g><circle cx=\"396.0\" cy=\"215.5\" r=\"21\" stroke=\"#a3938b\" stroke-width=\"2.9767442\" fill=\"#ead3c7\"/><text x=\"384.4069771433986\" y=\"225.17665880050674\" style=\"fill:#000000;font-family:Arial;font-size:30;\">G</text></g><line x1=\"453.43040075960954\" y1=\"402.4497908106997\" x2=\"467.18116589466126\" y2=\"396.75403739875424\" stroke=\"#404040\" stroke-width=\"2.9767442\"/><line x1=\"505.683308272806\" y1=\"380.80592784530666\" x2=\"519.4340734078578\" y2=\"375.1101744333612\" stroke=\"#404040\" stroke-width=\"2.9767442\"/><line x1=\"557.9362157860025\" y1=\"359.1620648799136\" x2=\"571.6869809210542\" y2=\"353.4663114679681\" stroke=\"#404040\" stroke-width=\"2.9767442\"/><line x1=\"610.189123299199\" y1=\"337.51820191452066\" x2=\"623.9398884342506\" y2=\"331.8224485025752\" stroke=\"#404040\" stroke-width=\"2.9767442\"/><line x1=\"663.8101623178694\" y1=\"428.07780444793707\" x2=\"650.0593971828177\" y2=\"433.77355785988254\" stroke=\"#404040\" stroke-width=\"2.9767442\"/><line x1=\"611.5572548046729\" y1=\"449.7216674133301\" x2=\"597.8064896696212\" y2=\"455.41742082527566\" stroke=\"#404040\" stroke-width=\"2.9767442\"/><line x1=\"559.3043472914763\" y1=\"471.3655303787231\" x2=\"545.5535821564247\" y2=\"477.0612837906686\" stroke=\"#404040\" stroke-width=\"2.9767442\"/><line x1=\"507.0514397782799\" y1=\"493.0093933441161\" x2=\"493.3006746432282\" y2=\"498.7051467560616\" stroke=\"#404040\" stroke-width=\"2.9767442\"/><line x1=\"436.6395854688431\" y1=\"438.40281643061894\" x2=\"456.0051470694579\" y2=\"485.15541788979476\" stroke=\"#404040\" stroke-width=\"2.9767442\"/><line x1=\"452.22378595523503\" y1=\"431.947629230414\" x2=\"471.5893475558498\" y2=\"478.70023068958983\" stroke=\"#404040\" stroke-width=\"2.9767442\"/><g><circle cx=\"434.5\" cy=\"410.5\" r=\"21\" stroke=\"#a3948c\" stroke-width=\"2.9767442\" fill=\"#e9d4c9\"/><text x=\"423.67932996974963\" y=\"420.4238459866359\" style=\"fill:#000000;font-family:Arial;font-size:30;\">C</text></g><g><circle cx=\"474.0\" cy=\"506.5\" r=\"21\" stroke=\"#a3938b\" stroke-width=\"2.9767442\" fill=\"#ead3c7\"/><text x=\"462.5496038533683\" y=\"516.6792019319978\" style=\"fill:#000000;font-family:Arial;font-size:30;\">G</text></g><line x1=\"488.8924929820396\" y1=\"416.758953465226\" x2=\"508.2580545826544\" y2=\"463.5115549244018\" stroke=\"#404040\" stroke-width=\"2.9767442\"/><line x1=\"504.47669346843156\" y1=\"410.30376626502095\" x2=\"523.8422550690464\" y2=\"457.05636772419683\" stroke=\"#404040\" stroke-width=\"2.9767442\"/><g><circle cx=\"486.5\" cy=\"388.5\" r=\"21\" stroke=\"#a3938b\" stroke-width=\"2.9767442\" fill=\"#ead3c7\"/><text x=\"475.9322374829461\" y=\"398.77998302124297\" style=\"fill:#000000;font-family:Arial;font-size:30;\">C</text></g><g><circle cx=\"526.5\" cy=\"485.0\" r=\"21\" stroke=\"#a59389\" stroke-width=\"2.9767442\" fill=\"#ecd2c4\"/><text x=\"514.8025113665648\" y=\"495.03533896660485\" style=\"fill:#000000;font-family:Arial;font-size:30;\">G</text></g><line x1=\"548.937500738432\" y1=\"391.8874968997304\" x2=\"568.3030623390468\" y2=\"438.64009835890636\" stroke=\"#404040\" stroke-width=\"2.9767442\"/><g><circle cx=\"538.5\" cy=\"367.0\" r=\"21\" stroke=\"#a3948c\" stroke-width=\"2.9767442\" fill=\"#e9d4c9\"/><text x=\"528.1851449961426\" y=\"377.1361200558499\" style=\"fill:#000000;font-family:Arial;font-size:30;\">A</text></g><g><circle cx=\"578.5\" cy=\"463.5\" r=\"21\" stroke=\"#a59288\" stroke-width=\"2.9767442\" fill=\"#ecd1c3\"/><text x=\"567.5554188797613\" y=\"473.3914760012119\" style=\"fill:#000000;font-family:Arial;font-size:30;\">U</text></g><line x1=\"593.3983080084325\" y1=\"373.47122753444\" x2=\"612.7638696090473\" y2=\"420.2238289936158\" stroke=\"#404040\" stroke-width=\"2.9767442\"/><line x1=\"608.9825084948245\" y1=\"367.01604033423496\" x2=\"628.3480700954393\" y2=\"413.7686417934108\" stroke=\"#404040\" stroke-width=\"2.9767442\"/><g><circle cx=\"591.0\" cy=\"345.5\" r=\"21\" stroke=\"#a3948c\" stroke-width=\"2.9767442\" fill=\"#e9d4c9\"/><text x=\"579.4380525093391\" y=\"355.492257090457\" style=\"fill:#000000;font-family:Arial;font-size:30;\">G</text></g><g><circle cx=\"630.5\" cy=\"441.5\" r=\"21\" stroke=\"#a3938b\" stroke-width=\"2.9767442\" fill=\"#ead3c7\"/><text x=\"620.3083263929577\" y=\"451.74761303581886\" style=\"fill:#000000;font-family:Arial;font-size:30;\">C</text></g><line x1=\"653.443315764825\" y1=\"348.59977096894454\" x2=\"672.8088773654398\" y2=\"395.35237242812036\" stroke=\"#404040\" stroke-width=\"2.9767442\"/><g><circle cx=\"643.5\" cy=\"324.0\" r=\"21\" stroke=\"#a59389\" stroke-width=\"2.9767442\" fill=\"#ecd2c4\"/><text x=\"632.6909600225356\" y=\"333.8483941250639\" style=\"fill:#000000;font-family:Arial;font-size:30;\">A</text></g><g><circle cx=\"683.0\" cy=\"420.0\" r=\"21\" stroke=\"#a79083\" stroke-width=\"2.9767442\" fill=\"#efcebc\"/><text x=\"672.0612339061543\" y=\"430.1037500704259\" style=\"fill:#000000;font-family:Arial;font-size:30;\">U</text></g><line x1=\"479.80377331503416\" y1=\"566.5586518246175\" x2=\"490.3281533140897\" y2=\"577.0830318236732\" stroke=\"#404040\" stroke-width=\"2.9767442\"/><line x1=\"519.7964173114453\" y1=\"606.5512958210288\" x2=\"530.320797310501\" y2=\"617.0756758200844\" stroke=\"#404040\" stroke-width=\"2.9767442\"/><line x1=\"559.7890613078566\" y1=\"646.54393981744\" x2=\"570.3134413069123\" y2=\"657.0683198164957\" stroke=\"#404040\" stroke-width=\"2.9767442\"/><line x1=\"599.7817053042679\" y1=\"686.5365838138512\" x2=\"610.3060853033235\" y2=\"697.0609638129068\" stroke=\"#404040\" stroke-width=\"2.9767442\"/><line x1=\"536.6354253099344\" y1=\"770.7316238062959\" x2=\"526.1110453108788\" y2=\"760.2072438072404\" stroke=\"#404040\" stroke-width=\"2.9767442\"/><line x1=\"496.64278131352313\" y1=\"730.7389798098848\" x2=\"486.1184013144675\" y2=\"720.2145998108292\" stroke=\"#404040\" stroke-width=\"2.9767442\"/><line x1=\"456.6501373171119\" y1=\"690.7463358134735\" x2=\"446.1257573180563\" y2=\"680.2219558144179\" stroke=\"#404040\" stroke-width=\"2.9767442\"/><line x1=\"416.6574933207006\" y1=\"650.7536918170622\" x2=\"406.13311332164506\" y2=\"640.2293118180066\" stroke=\"#404040\" stroke-width=\"2.9767442\"/><line x1=\"440.16194198525807\" y1=\"564.8045884914416\" x2=\"404.3790499884691\" y2=\"600.5874804882305\" stroke=\"#404040\" stroke-width=\"2.9767442\"/><line x1=\"452.0895726508544\" y1=\"576.7322191570379\" x2=\"416.3066806540654\" y2=\"612.5151111538269\" stroke=\"#404040\" stroke-width=\"2.9767442\"/><g><circle cx=\"465.0\" cy=\"551.5\" r=\"21\" stroke=\"#a3948c\" stroke-width=\"2.9767442\" fill=\"#e9d4c9\"/><text x=\"454.56964171556876\" y=\"561.8245202251522\" style=\"fill:#000000;font-family:Arial;font-size:30;\">C</text></g><g><circle cx=\"391.5\" cy=\"625.5\" r=\"21\" stroke=\"#a3948c\" stroke-width=\"2.9767442\" fill=\"#e9d4c9\"/><text x=\"379.8989817221797\" y=\"635.4951802185413\" style=\"fill:#000000;font-family:Arial;font-size:30;\">G</text></g><line x1=\"486.1184013144675\" y1=\"610.761047820651\" x2=\"450.33550931767854\" y2=\"646.5439398174401\" stroke=\"#404040\" stroke-width=\"2.9767442\"/><g><circle cx=\"505.0\" cy=\"591.5\" r=\"21\" stroke=\"#a3948c\" stroke-width=\"2.9767442\" fill=\"#e9d4c9\"/><text x=\"494.06228571198005\" y=\"601.8171642215634\" style=\"fill:#000000;font-family:Arial;font-size:30;\">U</text></g><g><circle cx=\"431.5\" cy=\"665.5\" r=\"21\" stroke=\"#a3938b\" stroke-width=\"2.9767442\" fill=\"#ead3c7\"/><text x=\"420.89162571859094\" y=\"675.4878242149525\" style=\"fill:#000000;font-family:Arial;font-size:30;\">A</text></g><line x1=\"520.1472299780806\" y1=\"644.7898764842641\" x2=\"484.3643379812916\" y2=\"680.5727684810531\" stroke=\"#404040\" stroke-width=\"2.9767442\"/><line x1=\"532.074860643677\" y1=\"656.7175071498605\" x2=\"496.29196864688794\" y2=\"692.5003991466494\" stroke=\"#404040\" stroke-width=\"2.9767442\"/><g><circle cx=\"545.0\" cy=\"631.5\" r=\"21\" stroke=\"#a3948c\" stroke-width=\"2.9767442\" fill=\"#e9d4c9\"/><text x=\"533.5549297083913\" y=\"641.8098082179747\" style=\"fill:#000000;font-family:Arial;font-size:30;\">G</text></g><g><circle cx=\"471.5\" cy=\"705.5\" r=\"21\" stroke=\"#a3938b\" stroke-width=\"2.9767442\" fill=\"#ead3c7\"/><text x=\"460.88426971500223\" y=\"715.4804682113638\" style=\"fill:#000000;font-family:Arial;font-size:30;\">C</text></g><line x1=\"566.1036893072901\" y1=\"690.7463358134735\" x2=\"530.320797310501\" y2=\"726.5292278102625\" stroke=\"#404040\" stroke-width=\"2.9767442\"/><g><circle cx=\"585.0\" cy=\"671.5\" r=\"21\" stroke=\"#a4938a\" stroke-width=\"2.9767442\" fill=\"#ebd3c6\"/><text x=\"574.0475737048026\" y=\"681.802452214386\" style=\"fill:#000000;font-family:Arial;font-size:30;\">U</text></g><g><circle cx=\"511.5\" cy=\"745.5\" r=\"21\" stroke=\"#a3948c\" stroke-width=\"2.9767442\" fill=\"#e9d4c9\"/><text x=\"500.87691371141347\" y=\"755.4731122077751\" style=\"fill:#000000;font-family:Arial;font-size:30;\">A</text></g><line x1=\"600.1325179709031\" y1=\"724.7751644770865\" x2=\"564.3496259741141\" y2=\"760.5580564738756\" stroke=\"#404040\" stroke-width=\"2.9767442\"/><line x1=\"612.0601486364994\" y1=\"736.7027951426828\" x2=\"576.2772566397105\" y2=\"772.4856871394719\" stroke=\"#404040\" stroke-width=\"2.9767442\"/><g><circle cx=\"625.0\" cy=\"711.5\" r=\"21\" stroke=\"#a3948c\" stroke-width=\"2.9767442\" fill=\"#e9d4c9\"/><text x=\"613.5402177012138\" y=\"721.7950962107972\" style=\"fill:#000000;font-family:Arial;font-size:30;\">G</text></g><g><circle cx=\"551.5\" cy=\"785.5\" r=\"21\" stroke=\"#a3948c\" stroke-width=\"2.9767442\" fill=\"#e9d4c9\"/><text x=\"540.8695577078247\" y=\"795.4657562041863\" style=\"fill:#000000;font-family:Arial;font-size:30;\">C</text></g><line x1=\"416.7441860465117\" y1=\"962.9767441860465\" x2=\"414.13953488372096\" y2=\"962.9767441860465\" stroke=\"#404040\" stroke-width=\"2.9767442\"/><line x1=\"455.81395348837214\" y1=\"962.9767441860465\" x2=\"453.20930232558146\" y2=\"962.9767441860465\" stroke=\"#404040\" stroke-width=\"2.9767442\"/><line x1=\"494.8837209302326\" y1=\"962.9767441860465\" x2=\"492.2790697674419\" y2=\"962.9767441860465\" stroke=\"#404040\" stroke-width=\"2.9767442\"/><line x1=\"533.953488372093\" y1=\"962.9767441860465\" x2=\"531.3488372093024\" y2=\"962.9767441860465\" stroke=\"#404040\" stroke-width=\"2.9767442\"/><g><circle cx=\"435.0\" cy=\"963.0\" r=\"21\" stroke=\"#ac7762\" stroke-width=\"2.9767442\" fill=\"#f6ab8d\"/><text x=\"424.47674458525904\" y=\"972.976744585259\" style=\"fill:#000000;font-family:Arial;font-size:30;\">A</text></g><g><circle cx=\"474.0\" cy=\"963.0\" r=\"21\" stroke=\"#aa8776\" stroke-width=\"2.9767442\" fill=\"#f4c2aa\"/><text x=\"463.54651202711955\" y=\"972.976744585259\" style=\"fill:#000000;font-family:Arial;font-size:30;\">C</text></g><g><circle cx=\"513.0\" cy=\"963.0\" r=\"21\" stroke=\"#ac806d\" stroke-width=\"2.9767442\" fill=\"#f6b79c\"/><text x=\"502.61627946898\" y=\"972.976744585259\" style=\"fill:#000000;font-family:Arial;font-size:30;\">C</text></g><g><circle cx=\"552.5\" cy=\"963.0\" r=\"21\" stroke=\"#a25341\" stroke-width=\"2.9767442\" fill=\"#e8775d\"/><text x=\"541.6860469108404\" y=\"972.976744585259\" style=\"fill:#000000;font-family:Arial;font-size:30;\">A</text></g></svg>"
      ],
      "text/plain": [
       "<IPython.core.display.SVG object>"
      ]
     },
     "execution_count": 5,
     "metadata": {},
     "output_type": "execute_result"
    }
   ],
   "source": [
    "def scale_colors(colors_dict, as_hex=True, cmap=None, reverse=False):\n",
    "    '''\n",
    "    A dictionary with values containing scalars which need to \n",
    "    be scaled according to some color map. The keys are irrelevant.\n",
    "    The color map will be normalized to the range of values within \n",
    "    color_dict.\n",
    "    :param colors_dict: Dictionary of k=nucleotide_index, v=color as float.\n",
    "    :param as_hex: Boolean, if True then returns '#RRGGBB' hex string rather than (r,g,b)\n",
    "    :param cmap: A color map to be used to scale the colors.\n",
    "    :param reverse: Reverse the color map\n",
    "    :return: Another dictionary containing rgb triples as values.\n",
    "    '''\n",
    "    # This code adapted from: https://github.com/ViennaRNA/forgi/blob/0fca4a85bbe74f3e12cf1505e37a713c4454d34c/forgi/visual/fornac.py\n",
    "    \n",
    "    if cmap is None:\n",
    "        import matplotlib.pyplot as plt\n",
    "        cmap = plt.get_cmap('Blues')\n",
    "\n",
    "    values = colors_dict.values()\n",
    "    min_value = min(values)\n",
    "    max_value = max(values)\n",
    "\n",
    "    new_dict = {}\n",
    "    for key in colors_dict:\n",
    "        if reverse:\n",
    "            color = cmap(\n",
    "                1 - ((colors_dict[key] - min_value) / (max_value - min_value)))\n",
    "        else:\n",
    "            color = cmap(\n",
    "                (colors_dict[key] - min_value) / (max_value - min_value))\n",
    "        r,g,b = int(255 * color[0]), int(255 * color[1]), int(255 * color[2])\n",
    "        \n",
    "        new_dict[key] = (r,g,b) if not as_hex else \"#{r:02x}{g:02x}{b:02x}\".format(r=r, g=g, b=b)\n",
    "\n",
    "    return new_dict\n",
    "\n",
    "def rnaartist_color_str(nucleotide_colors):\n",
    "    template = '''\n",
    "    color {{\n",
    "        location = \"{ind}:1\"\n",
    "        value = \"{hexcolor}\"\n",
    "    }}\n",
    "    '''\n",
    "    \n",
    "    s = ''\n",
    "    for bi, c_rgb in nucleotide_colors.items():\n",
    "        s += template.format(ind=bi+1, hexcolor=c_rgb)\n",
    "    return s\n",
    "\n",
    "# note: /project is the path prefix mounted to ./ in container-world\n",
    "seq    = 'GCGGAUUUAGCUCAGUUGGGAGAGCGCCAGACUGAAGAUCUGGAGGUCCUGUGUUCGAUCCACAGAAUUCGCACCA'\n",
    "struct = '(((((((..((((........)))).(((((.......))))).....(((((.......))))))))))))....'\n",
    "shape_data = [0.049, 0.0, 0.0, 0.0, 0.0, 0.0, 0.0, 0.02, 0.0, 0.02, 0.0, 0.0, 0.01, 0.039, 0.02, 0.205, 0.302, 0.127,\n",
    "              1.052, 0.779, 0.068, 0.01, 0.0, 0.0, -2, 0.01, 0.0, 0.01, 0.0, 0.0, 0.039, 0.175, 0.964, 1.607, 1.383, \n",
    "              1.081, 0.546, 1.11, 0.107, 0.01, 0.049, 0.029, 0.01, 0.01, 0.0, 0.01, 0.078, 0.01, 0.0, 0.0, 0.0, 0.02, \n",
    "              0.0, 0.01, 0.058, 0.01, 0.01, 0.01, 0.02, 0.029, 0.0, 0.0, 0.01, 0.01, 0.0, 0.01, 0.01, 0.0, 0.0, 0.0, \n",
    "              0.0, 0.088, 0.536, 0.273, 0.409, 0.984]\n",
    "nucleotide_colors = scale_colors(dict((i, v) for i,v in enumerate(shape_data)),\n",
    "                                 cmap=plt.get_cmap('coolwarm'))\n",
    "color_in_dsl = rnaartist_color_str(nucleotide_colors)\n",
    "\n",
    "write_to = 'test.svg'\n",
    "s = f'''rnartist {{\n",
    "  file = \"/project/{write_to}\"\n",
    "  ss {{\n",
    "    rna {{\n",
    "      sequence = \"{seq}\"\n",
    "    }}\n",
    "    bracket_notation = \"{struct}\"\n",
    "  }}\n",
    "  theme {{\n",
    "    details_lvl = 5\n",
    "    \n",
    "    {color_in_dsl}\n",
    "    \n",
    "    color {{\n",
    "        type = \"n\"\n",
    "        value = \"black\"\n",
    "    }}\n",
    "  }}\n",
    "  layout {{\n",
    "    junction {{\n",
    "        type = 3\n",
    "        out_ids =\"w e\"\n",
    "    }}\n",
    "  }}\n",
    "}}\n",
    "'''\n",
    "plot_instruction_file = './test.kts'\n",
    "with open(plot_instruction_file, 'w') as f:\n",
    "    f.write(s)\n",
    "!{plot_rnartist} {plot_instruction_file}\n",
    "\n",
    "# the output file name is like: filename defined in the script + molecular chain name (default name is 'A'). \n",
    "actually_wrote_to = write_to[:-len('.svg')] + '_A.svg'\n",
    "SVG(filename=actually_wrote_to)"
   ]
  }
 ],
 "metadata": {
  "kernelspec": {
   "display_name": "Python 3 (ipykernel)",
   "language": "python",
   "name": "python3"
  },
  "language_info": {
   "codemirror_mode": {
    "name": "ipython",
    "version": 3
   },
   "file_extension": ".py",
   "mimetype": "text/x-python",
   "name": "python",
   "nbconvert_exporter": "python",
   "pygments_lexer": "ipython3",
   "version": "3.9.7"
  }
 },
 "nbformat": 4,
 "nbformat_minor": 5
}
